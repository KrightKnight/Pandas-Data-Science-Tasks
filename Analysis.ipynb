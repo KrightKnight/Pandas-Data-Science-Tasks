{
 "cells": [
  {
   "cell_type": "code",
   "execution_count": 2,
   "id": "great-uncle",
   "metadata": {},
   "outputs": [],
   "source": [
    "import pandas as pd\n",
    "from glob import glob\n",
    "import os\n",
    "import matplotlib.pyplot as plt"
   ]
  },
  {
   "cell_type": "markdown",
   "id": "cloudy-wesley",
   "metadata": {},
   "source": [
    "# Merge monthly sales data into single file"
   ]
  },
  {
   "cell_type": "code",
   "execution_count": 3,
   "id": "jewish-sleeping",
   "metadata": {},
   "outputs": [],
   "source": [
    "jan = pd.read_csv('./Sales_Data/Sales_January_2019.csv')\n",
    "\n",
    "#Reading all files \n",
    "#sales19 = glob('Sales_Data/*.csv')\n",
    "files = [file for file in os.listdir('./Sales_Data')]  \n",
    "all_files = pd.DataFrame()\n",
    "\n",
    "#Merging all files into one file\n",
    "#df_sales19 = pd.concat([pd.read_csv(f, delimiter=',') for f in sales19])\n",
    "for file in files:\n",
    "    df = pd.read_csv('./Sales_Data/'+file)\n",
    "    all_files = pd.concat([all_files, df])\n",
    "\n",
    "all_files.to_csv('allfiles.csv', index=False)    "
   ]
  },
  {
   "cell_type": "markdown",
   "id": "downtown-strip",
   "metadata": {},
   "source": [
    "## Read updated DataFrame"
   ]
  },
  {
   "cell_type": "code",
   "execution_count": 4,
   "id": "seven-trade",
   "metadata": {},
   "outputs": [],
   "source": [
    "allfiles = pd.read_csv('allfiles.csv')"
   ]
  },
  {
   "cell_type": "markdown",
   "id": "single-absolute",
   "metadata": {},
   "source": [
    "## Process Clean Up"
   ]
  },
  {
   "cell_type": "code",
   "execution_count": 5,
   "id": "associate-mission",
   "metadata": {},
   "outputs": [],
   "source": [
    "#Check for NaN Values\n",
    "nan_df = allfiles[allfiles.isna().any(axis=1)]\n",
    "nan_df.head(100)\n",
    "\n",
    "#Drop NaNRows\n",
    "allfiles = allfiles.dropna(how='all')\n",
    "\n",
    "#Fix the \"OR\" error upon converting orderdate into Month\n",
    "allfiles = allfiles[allfiles['Order Date'].str[0:2] !='Or']\n",
    "\n",
    "#COnvert column values to correct type\n",
    "allfiles['Quantity Ordered'] = pd.to_numeric(allfiles['Quantity Ordered'])\n",
    "allfiles['Price Each'] = pd.to_numeric(allfiles['Price Each'])\n"
   ]
  },
  {
   "cell_type": "markdown",
   "id": "initial-empty",
   "metadata": {},
   "source": [
    "# Add Extra Columns"
   ]
  },
  {
   "cell_type": "code",
   "execution_count": 18,
   "id": "speaking-problem",
   "metadata": {},
   "outputs": [],
   "source": [
    "#Add Month Column\n",
    "allfiles['Month'] =allfiles['Order Date'].str[0:2]\n",
    "allfiles['Month'] =allfiles['Month'].astype('int32')\n",
    "\n",
    "#Add Sales($$$) Column\n",
    "allfiles['Sales'] = allfiles['Quantity Ordered'] * allfiles['Price Each']"
   ]
  },
  {
   "cell_type": "markdown",
   "id": "compliant-quilt",
   "metadata": {},
   "source": [
    "# What was the best month for sales? How much was earned that month?"
   ]
  },
  {
   "cell_type": "code",
   "execution_count": 19,
   "id": "cooperative-willow",
   "metadata": {},
   "outputs": [],
   "source": [
    "total_sales = allfiles.groupby('Month').sum()"
   ]
  },
  {
   "cell_type": "code",
   "execution_count": 20,
   "id": "falling-cardiff",
   "metadata": {},
   "outputs": [
    {
     "data": {
      "image/png": "[encoded data removed]",
      "text/plain": [
       "<Figure size 640x480 with 1 Axes>"
      ]
     },
     "metadata": {},
     "output_type": "display_data"
    }
   ],
   "source": [
    "#Plot the results\n",
    "months = range(1,13)\n",
    "\n",
    "plt.bar(months,allfiles.groupby(['Month']).sum()['Sales'])\n",
    "plt.xticks(months)\n",
    "plt.ylabel('Sales in USD ($)')\n",
    "plt.xlabel('Month Number')\n",
    "plt.show()\n"
   ]
  },
  {
   "cell_type": "code",
   "execution_count": null,
   "id": "seven-consultancy",
   "metadata": {},
   "outputs": [],
   "source": []
  },
  {
   "cell_type": "code",
   "execution_count": null,
   "id": "115b9bd4",
   "metadata": {},
   "outputs": [],
   "source": []
  },
  {
   "cell_type": "code",
   "execution_count": null,
   "id": "b7d21099",
   "metadata": {},
   "outputs": [],
   "source": []
  }
 ],
 "metadata": {
  "kernelspec": {
   "display_name": "Python 3",
   "language": "python",
   "name": "python3"
  },
  "language_info": {
   "codemirror_mode": {
    "name": "ipython",
    "version": 3
   },
   "file_extension": ".py",
   "mimetype": "text/x-python",
   "name": "python",
   "nbconvert_exporter": "python",
   "pygments_lexer": "ipython3",
   "version": "3.8.3"
  }
 },
 "nbformat": 4,
 "nbformat_minor": 5
}
